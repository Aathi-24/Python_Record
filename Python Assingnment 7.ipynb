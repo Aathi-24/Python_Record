{
  "cells": [
    {
      "cell_type": "markdown",
      "metadata": {
        "id": "W9OrqgIZoUl2"
      },
      "source": [
        "1.Write a program to create a set and perform the following operations: Add an element, remove an element, check for membership, and clear the set."
      ]
    },
    {
      "cell_type": "code",
      "execution_count": null,
      "metadata": {
        "colab": {
          "base_uri": "https://localhost:8080/"
        },
        "id": "oe445W3UlFCP",
        "outputId": "f2a69eb3-b53f-47ff-cef7-b922ec2cb7b9"
      },
      "outputs": [
        {
          "name": "stdout",
          "output_type": "stream",
          "text": [
            "Creating a set          : {'water melon', 'orange', 'banana', 'apple'}\n",
            "After removing          : {'water melon', 'orange', 'apple'}\n",
            "Checking for membership : True\n",
            "After clearing the set  : set()\n"
          ]
        }
      ],
      "source": [
        "a=set()\n",
        "a.add(\"apple\")\n",
        "a.add(\"banana\")\n",
        "a.add(\"orange\")\n",
        "a.add(\"water melon\")\n",
        "print(\"Creating a set          :\",a)\n",
        "a.remove(\"banana\")\n",
        "print(\"After removing          :\",a)\n",
        "print(\"Checking for membership :\",any(a))\n",
        "a.clear()\n",
        "print(\"After clearing the set  :\",a)\n",
        "del(a)"
      ]
    },
    {
      "cell_type": "markdown",
      "metadata": {
        "id": "k4gC2S7LoZf6"
      },
      "source": [
        "2.Write a program to take two sets of integers and perform the following operations: Union, intersection, difference, and symmetric difference.\n"
      ]
    },
    {
      "cell_type": "code",
      "execution_count": null,
      "metadata": {
        "colab": {
          "base_uri": "https://localhost:8080/"
        },
        "id": "wyYib2AjcL5W",
        "outputId": "346a0b9c-7755-4882-d131-30c1535a3466"
      },
      "outputs": [
        {
          "name": "stdout",
          "output_type": "stream",
          "text": [
            "Union                : {1, 2, 3, 4, 5, 6, 7, 8, 9}\n",
            "Intersection         : {1, 5}\n",
            "Difference           : {4, 6, 7}\n",
            "Symmetric Difference : {2, 3, 4, 6, 7, 8, 9}\n"
          ]
        }
      ],
      "source": [
        "a=set([1,7,5,4,6])\n",
        "b=set([3,5,2,9,8,1])\n",
        "#un=a.union(b)\n",
        "un=a|b\n",
        "print(\"Union                :\",un)\n",
        "#inter=a.intersection(b)\n",
        "inter=a&b\n",
        "print(\"Intersection         :\",inter)\n",
        "#diff=a.difference(b)\n",
        "diff=a-b\n",
        "print(\"Difference           :\",diff)\n",
        "#s_diff=a.symmetric_difference(b)\n",
        "s_diff=a^b\n",
        "print(\"Symmetric Difference :\",s_diff)"
      ]
    },
    {
      "cell_type": "markdown",
      "metadata": {
        "id": "LPMuzHlUotZk"
      },
      "source": [
        "3.Write a program to count the number of unique words in a given sentence using a set.\n"
      ]
    },
    {
      "cell_type": "code",
      "execution_count": null,
      "metadata": {
        "colab": {
          "base_uri": "https://localhost:8080/"
        },
        "id": "-rHxkBdjd5m6",
        "outputId": "3720cd03-cd9f-4111-cee7-6abb4903d0ed"
      },
      "outputs": [
        {
          "name": "stdout",
          "output_type": "stream",
          "text": [
            "Enter a string : I know you know that I know\n",
            "The number of words in the given sentence        :  7\n",
            "The number of unique words in the given sentence :  4\n"
          ]
        }
      ],
      "source": [
        "str=input(\"Enter a string : \")\n",
        "str=str.lower().split()\n",
        "list1=list()\n",
        "for i in str:\n",
        "  list1.append(i)\n",
        "print(\"The number of words in the given sentence        : \",len(list1))\n",
        "set1=set(list1)\n",
        "print(\"The number of unique words in the given sentence : \",len(set1))"
      ]
    },
    {
      "cell_type": "markdown",
      "metadata": {
        "id": "x66HbIlMo3JD"
      },
      "source": [
        "4.Write a program to create a set of even numbers from 1 to 20 using set comprehension.\n"
      ]
    },
    {
      "cell_type": "code",
      "execution_count": null,
      "metadata": {
        "colab": {
          "base_uri": "https://localhost:8080/"
        },
        "id": "6BFEOZAJ6Jni",
        "outputId": "595e93a1-a017-4905-af32-2e9470d409db"
      },
      "outputs": [
        {
          "name": "stdout",
          "output_type": "stream",
          "text": [
            "Even set :  {2, 4, 6, 8, 10, 12, 14, 16, 18, 20}\n"
          ]
        }
      ],
      "source": [
        "set1={i for i in range(1,21,1) if i%2==0}\n",
        "print(\"Even set : \",set1)"
      ]
    },
    {
      "cell_type": "markdown",
      "metadata": {
        "id": "j_vzERZ-EmVL"
      },
      "source": [
        "5.Write a program to create a dictionary with names and ages of 5 people and print the dictionary.\n"
      ]
    },
    {
      "cell_type": "code",
      "execution_count": null,
      "metadata": {
        "colab": {
          "base_uri": "https://localhost:8080/"
        },
        "id": "GvquCOVNE3q8",
        "outputId": "f88c1bad-2cca-4b77-d666-a96fecf03b13"
      },
      "outputs": [
        {
          "name": "stdout",
          "output_type": "stream",
          "text": [
            "Enter the number of people :5\n",
            "Enter the name :ashwin\n",
            "Enter the age :45\n",
            "Enter the name :arun\n",
            "Enter the age :76\n",
            "Enter the name :abdul\n",
            "Enter the age :34\n",
            "Enter the name :aathi\n",
            "Enter the age :24\n",
            "Enter the name :arvind\n",
            "Enter the age :32\n",
            "Dictionary : {'ashwin': 45, 'arun': 76, 'abdul': 34, 'aathi': 24, 'arvind': 32}\n"
          ]
        }
      ],
      "source": [
        "n = int(input(\"Enter the number of people :\"))\n",
        "dict={}\n",
        "for i in range(1,n+1,1):\n",
        "  name=input(\"Enter the name :\")\n",
        "  age=int(input(\"Enter the age :\"))\n",
        "  dict[name]=age\n",
        "print(\"Dictionary :\",dict)"
      ]
    },
    {
      "cell_type": "markdown",
      "metadata": {
        "id": "9niJC3sqGy4h"
      },
      "source": [
        "6.Write a program to search for a key in a dictionary and print its value if found.\n"
      ]
    },
    {
      "cell_type": "code",
      "execution_count": null,
      "metadata": {
        "colab": {
          "base_uri": "https://localhost:8080/"
        },
        "id": "ugivzE7_Ho20",
        "outputId": "0aacb5bc-9d5d-4de3-fc1e-2bab7ca5016c"
      },
      "outputs": [
        {
          "name": "stdout",
          "output_type": "stream",
          "text": [
            "Enter the key to search : aathi\n",
            "The value corresponding to aathi is 24\n"
          ]
        }
      ],
      "source": [
        "Dict={'ashwin': 45, 'arun': 76, 'abdul': 34, 'aathi': 24, 'arvind': 32}\n",
        "key=input(\"Enter the key to search : \")\n",
        "key=key.lower()\n",
        "c=0\n",
        "for i in dict.items():\n",
        "  if i[0]==key:\n",
        "    print(f\"The value corresponding to {key} is\",i[1])\n",
        "    c=c+1\n",
        "    break\n",
        "if(c==0):\n",
        "  print(\"The key not Found,Please enter a valid Key\")\n"
      ]
    },
    {
      "cell_type": "markdown",
      "metadata": {
        "id": "e2CDhiMMLLvC"
      },
      "source": [
        "7.Write a program to update a value in a dictionary and remove a key-value pair."
      ]
    },
    {
      "cell_type": "code",
      "execution_count": null,
      "metadata": {
        "colab": {
          "base_uri": "https://localhost:8080/"
        },
        "id": "HZS2MWH1LWJz",
        "outputId": "5e57988c-f488-497a-f608-4acbd2217fa9"
      },
      "outputs": [
        {
          "name": "stdout",
          "output_type": "stream",
          "text": [
            "Oringinal Dictionary : {'ashwin': 45, 'arun': 76, 'abdul': 34, 'aathi': 24, 'arvind': 32, 'kavi': 56}\n",
            "Enter the key to update :ArvinD\n",
            "Enter the new key:46\n",
            "Updated Dictionary : {'ashwin': 45, 'arun': 76, 'abdul': 34, 'aathi': 24, 'arvind': 46, 'kavi': 56}\n",
            "Enter the key to delete :Kavi\n",
            "Dictionary after deletion : {'ashwin': 45, 'arun': 76, 'abdul': 34, 'aathi': 24, 'arvind': 46}\n"
          ]
        }
      ],
      "source": [
        "Dict={'ashwin': 45, 'arun': 76, 'abdul': 34, 'aathi': 24, 'arvind': 32,'kavi':56}\n",
        "print(\"Oringinal Dictionary :\",Dict)\n",
        "upd=input(\"Enter the key to update :\").lower()\n",
        "Dict[upd]=int(input(\"Enter the new key:\"))\n",
        "print(\"Updated Dictionary :\",Dict)\n",
        "delk=input(\"Enter the key to delete :\").lower()\n",
        "del Dict[delk]\n",
        "print(\"Dictionary after deletion :\",Dict)"
      ]
    },
    {
      "cell_type": "markdown",
      "metadata": {
        "id": "T1HEbnxSdDwE"
      },
      "source": [
        "8.Write a program to count the frequency of characters in a user-given string using a dictionary."
      ]
    },
    {
      "cell_type": "code",
      "execution_count": null,
      "metadata": {
        "colab": {
          "base_uri": "https://localhost:8080/"
        },
        "id": "17KkQ5vgdLOC",
        "outputId": "8ed9661b-3171-412b-ccbe-358beb80ac84"
      },
      "outputs": [
        {
          "name": "stdout",
          "output_type": "stream",
          "text": [
            "Enter a string :Aadithya Vettrivel\n",
            "{'d': 1, 'v': 2, 'a': 3, 'l': 1, 'i': 2, 'y': 1, 'e': 2, 't': 3, ' ': 1, 'r': 1, 'h': 1}\n"
          ]
        }
      ],
      "source": [
        "str=input(\"Enter a string :\").lower()\n",
        "list1=[]\n",
        "dict={}\n",
        "for i in str:\n",
        "  list1.append(i)\n",
        "set1=set(list1)\n",
        "for i in set1:\n",
        "  a=list1.count(i)\n",
        "  dict[i]=a\n",
        "print(dict)"
      ]
    },
    {
      "cell_type": "markdown",
      "metadata": {
        "id": "AEO5Us-i0Awb"
      },
      "source": [
        "9.Write a program to merge two dictionaries into one."
      ]
    },
    {
      "cell_type": "code",
      "execution_count": 1,
      "metadata": {
        "colab": {
          "base_uri": "https://localhost:8080/"
        },
        "id": "H51BRD400EBX",
        "outputId": "ec865a29-9f59-4c8f-ef8c-0d48b2ff08cb"
      },
      "outputs": [
        {
          "name": "stdout",
          "output_type": "stream",
          "text": [
            "Dictionary 1      :  {'apple': 10, 'banana': 15, 'orange': 5}\n",
            "Dictionary 2      :  {'potato': 10, 'brinjal': 14, 'tomato': 20}\n",
            "Merged Dictionary :  {'apple': 10, 'banana': 15, 'orange': 5, 'potato': 10, 'brinjal': 14, 'tomato': 20}\n"
          ]
        }
      ],
      "source": [
        "fruits={'apple':10,'banana':15,'orange':5}\n",
        "vegies={'potato':10,'brinjal':14,'tomato':20}\n",
        "shop={}\n",
        "for i in fruits.items():\n",
        "  shop[i[0]]=i[1]\n",
        "for j in vegies.items():\n",
        "  shop[j[0]]=j[1]\n",
        "print(\"Dictionary 1      : \",fruits)\n",
        "print(\"Dictionary 2      : \",vegies)\n",
        "print(\"Merged Dictionary : \",shop)"
      ]
    },
    {
      "cell_type": "markdown",
      "metadata": {
        "id": "-FXv2kpglv1R"
      },
      "source": [
        "10.Write a program to create a dictionary with student names and marks, and print names of students who scored more than 80.\n"
      ]
    },
    {
      "cell_type": "code",
      "execution_count": null,
      "metadata": {
        "colab": {
          "base_uri": "https://localhost:8080/"
        },
        "id": "2_s1Qevfl4VT",
        "outputId": "9abdb489-f931-452d-f5d7-1d54ba4e99de"
      },
      "outputs": [
        {
          "name": "stdout",
          "output_type": "stream",
          "text": [
            "Enter the number of students :4\n",
            "Enter the Student name :kavin\n",
            "Enter the mark :78\n",
            "Enter the Student name :pravin\n",
            "Enter the mark :87\n",
            "Enter the Student name :pavin\n",
            "Enter the mark :45\n",
            "Enter the Student name :kevin\n",
            "Enter the mark :97\n",
            "{'kavin': 78, 'pravin': 87, 'pavin': 45, 'kevin': 97}\n",
            "Students who scored marks more than 80 :\n",
            "pravin\n",
            "kevin\n"
          ]
        }
      ],
      "source": [
        "stud={}\n",
        "n=int(input(\"Enter the number of students :\"))\n",
        "for i in range(1,n+1,1):\n",
        "  name=input(\"Enter the Student name :\")\n",
        "  mark=int(input(\"Enter the mark :\"))\n",
        "  stud[name]=mark\n",
        "print(\"-----------------------------------------------------------------------\")\n",
        "print(stud)\n",
        "print(\"-----------------------------------------------------------------------\")\n",
        "print(\"Students who scored marks more than 80 :\")\n",
        "for i in stud.items():\n",
        "  if i[1]>80:\n",
        "    print(i[0])"
      ]
    }
  ],
  "metadata": {
    "colab": {
      "provenance": []
    },
    "kernelspec": {
      "display_name": "Python 3",
      "name": "python3"
    },
    "language_info": {
      "name": "python"
    }
  },
  "nbformat": 4,
  "nbformat_minor": 0
}
