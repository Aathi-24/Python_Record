{
  "cells": [
    {
      "cell_type": "markdown",
      "metadata": {
        "id": "pp-uO3Ab_TGX"
      },
      "source": [
        "1.Safe Division Calculator: You're building a simple calculator app. One of the most common issues is when a user tries to divide by zero. Write a program that takes two numbers from the user and performs division. Use try-except to handle ZeroDivisionError and display an appropriate message like \"Cannot divide by zero\".\n"
      ]
    },
    {
      "cell_type": "code",
      "execution_count": 6,
      "metadata": {
        "colab": {
          "base_uri": "https://localhost:8080/"
        },
        "id": "_LIuJL5L_YbF",
        "outputId": "e333a695-2776-48be-ba3c-27aff2e129db"
      },
      "outputs": [
        {
          "name": "stdout",
          "output_type": "stream",
          "text": [
            "Enter the first number:5\n",
            "Enter the second number:0\n",
            "Zero Division Error\n",
            "Cannot Divide by zero\n"
          ]
        }
      ],
      "source": [
        "try:\n",
        "  a=int(input(\"Enter the first number:\"))\n",
        "  b=int(input(\"Enter the second number:\"))\n",
        "  div=a/b\n",
        "  print(\"The division value is :\",div)\n",
        "except:\n",
        "  print(\"Zero Division Error\")\n",
        "  print(\"Cannot Divide by zero\")"
      ]
    },
    {
      "cell_type": "markdown",
      "metadata": {
        "id": "EEbUDpBLA6Fa"
      },
      "source": [
        "2.Robust List Indexing: You’re developing a student report viewer. Users may sometimes enter an invalid index to view a student’s mark. Write a program that accesses an element from a predefined list of marks using an index provided by the user. Use exception handling to catch IndexError and print \"Invalid index entered. Please try again.\"\n"
      ]
    },
    {
      "cell_type": "code",
      "execution_count": 12,
      "metadata": {
        "colab": {
          "base_uri": "https://localhost:8080/"
        },
        "id": "LdU0swT1A9OD",
        "outputId": "7c23cdbb-398d-45d2-8c30-5cf286b139ac"
      },
      "outputs": [
        {
          "name": "stdout",
          "output_type": "stream",
          "text": [
            "Enter the roll no of student :45\n",
            "Index Error\n",
            "Invalid index entered. Please try again.\n"
          ]
        }
      ],
      "source": [
        "try:\n",
        "  score=[90,78,56,43,76,98,100,67,45,45,34,21,78,98,100,56,73]\n",
        "  idx=int(input(\"Enter the roll no of student :\"))\n",
        "  print(score[idx])\n",
        "except:\n",
        "  print(\"Index Error\")\n",
        "  print(\"Invalid index entered. Please try again.\")"
      ]
    },
    {
      "cell_type": "markdown",
      "metadata": {
        "id": "HXgbb9j5CTv3"
      },
      "source": [
        "3.Type-Safe Input for Integer Conversion: You’re building a data entry form. Sometimes users enter text when a number is expected. Write a program that takes user input and converts it to an integer. Handle ValueError using a try-except block and print \"Please enter a valid number.\" if the input is not convertible.\n"
      ]
    },
    {
      "cell_type": "code",
      "execution_count": 14,
      "metadata": {
        "colab": {
          "base_uri": "https://localhost:8080/"
        },
        "id": "jR22Nh15Ccax",
        "outputId": "43e0d552-bc9f-48bc-fc76-7dd25989cf58"
      },
      "outputs": [
        {
          "name": "stdout",
          "output_type": "stream",
          "text": [
            "Enter a number :aathi\n",
            "Value Error\n",
            "Please enter a valid number\n"
          ]
        }
      ],
      "source": [
        "try:\n",
        "  num=int(input(\"Enter a number :\"))\n",
        "  print(num)\n",
        "except:\n",
        "  print(\"Value Error\")\n",
        "  print(\"Please enter a valid number\")"
      ]
    }
  ],
  "metadata": {
    "colab": {
      "provenance": []
    },
    "kernelspec": {
      "display_name": "Python 3",
      "name": "python3"
    },
    "language_info": {
      "name": "python"
    }
  },
  "nbformat": 4,
  "nbformat_minor": 0
}
